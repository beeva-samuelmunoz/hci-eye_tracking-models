{
 "cells": [
  {
   "cell_type": "markdown",
   "metadata": {},
   "source": [
    "# Preprocess data"
   ]
  },
  {
   "cell_type": "code",
   "execution_count": 1,
   "metadata": {
    "collapsed": true
   },
   "outputs": [],
   "source": [
    "import numpy as np\n",
    "import os\n",
    "import pandas as pd\n",
    "import seaborn as sns\n",
    "import skimage.io\n",
    "\n",
    "import config\n",
    "from utils.normalize2 import normalize_features02, normalize_labels\n",
    "\n",
    "%matplotlib inline"
   ]
  },
  {
   "cell_type": "markdown",
   "metadata": {},
   "source": [
    "## Load dataset"
   ]
  },
  {
   "cell_type": "code",
   "execution_count": 2,
   "metadata": {
    "collapsed": true
   },
   "outputs": [],
   "source": [
    "from utils.features02_dlib import FEATURES, TARGETS"
   ]
  },
  {
   "cell_type": "code",
   "execution_count": 3,
   "metadata": {
    "collapsed": true
   },
   "outputs": [],
   "source": [
    "feat_types = {f:np.int32 for f in FEATURES}"
   ]
  },
  {
   "cell_type": "code",
   "execution_count": 4,
   "metadata": {
    "collapsed": true
   },
   "outputs": [],
   "source": [
    "feat_types.update({\n",
    "    'eye_right_image':  np.str,\n",
    "    'eye_left_image':  np.str,\n",
    "    # Shot\n",
    "    'y': np.int32,\n",
    "    'x': np.int32,\n",
    "    'score': np.int32,\n",
    "    'timestamp':  np.int32,\n",
    "    'img_path':  np.str,\n",
    "    'img': np.str,  # Relative to the raw dataset\n",
    "\n",
    "    # Game\n",
    "    'game_id': np.str,\n",
    "    'glasses': np.bool,\n",
    "    'screen_diagonal': np.float,\n",
    "    'camera_position': np.str,\n",
    "    'screen_height': np.int32,\n",
    "    'screen_width': np.int32,\n",
    "})"
   ]
  },
  {
   "cell_type": "code",
   "execution_count": 5,
   "metadata": {
    "collapsed": true,
    "scrolled": false
   },
   "outputs": [],
   "source": [
    "# Load dataset\n",
    "data = pd.read_csv(\n",
    "    config.PATH_DATA_FEATURES02_DLIB_AUGMENTED_CSV,\n",
    "    usecols=feat_types\n",
    ")"
   ]
  },
  {
   "cell_type": "code",
   "execution_count": 10,
   "metadata": {
    "collapsed": true
   },
   "outputs": [],
   "source": [
    "import seaborn as sns\n",
    "%matplotlib inline"
   ]
  },
  {
   "cell_type": "code",
   "execution_count": null,
   "metadata": {
    "collapsed": true
   },
   "outputs": [],
   "source": [
    "data['score']"
   ]
  },
  {
   "cell_type": "code",
   "execution_count": 13,
   "metadata": {},
   "outputs": [
    {
     "data": {
      "text/plain": [
       "<matplotlib.axes._subplots.AxesSubplot at 0x7f5bf44b0ba8>"
      ]
     },
     "execution_count": 13,
     "metadata": {},
     "output_type": "execute_result"
    },
    {
     "data": {
      "image/png": "[encoded data removed]",
      "text/plain": [
       "<matplotlib.figure.Figure at 0x7f5bf4522da0>"
      ]
     },
     "metadata": {},
     "output_type": "display_data"
    }
   ],
   "source": [
    "sns.distplot((((data['score']-5)/5)-0.5)*2)"
   ]
  },
  {
   "cell_type": "code",
   "execution_count": 9,
   "metadata": {},
   "outputs": [
    {
     "data": {
      "text/plain": [
       "count    24075.000000\n",
       "mean         8.507664\n",
       "std          1.331636\n",
       "min          5.000000\n",
       "25%          8.000000\n",
       "50%          9.000000\n",
       "75%         10.000000\n",
       "max         11.000000\n",
       "Name: score, dtype: float64"
      ]
     },
     "execution_count": 9,
     "metadata": {},
     "output_type": "execute_result"
    }
   ],
   "source": [
    "data['score'].describe()"
   ]
  },
  {
   "cell_type": "markdown",
   "metadata": {},
   "source": [
    "## Scale"
   ]
  },
  {
   "cell_type": "markdown",
   "metadata": {},
   "source": [
    "* x axis: [-1, 1]\n",
    "* y axis: [-1, 1]"
   ]
  },
  {
   "cell_type": "code",
   "execution_count": 6,
   "metadata": {
    "collapsed": true
   },
   "outputs": [],
   "source": [
    "normalize_features02(data, FEATURES, config.WEBCAM_WIDTH, config.WEBCAM_HEIGHT)\n",
    "normalize_features02(data,TARGETS, config.SCREEN_WIDTH, config.SCREEN_HEIGHT)\n"
   ]
  },
  {
   "cell_type": "markdown",
   "metadata": {},
   "source": [
    "## Delete rows not in images\n",
    "\n",
    "In order not to generate all the augmented data again, I only delete wrong samples from the 'raw' dataset an load augmented samples that are remaining samples in 'raw'."
   ]
  },
  {
   "cell_type": "code",
   "execution_count": null,
   "metadata": {
    "collapsed": true
   },
   "outputs": [],
   "source": [
    "from utils.data import Data\n",
    "\n",
    "raw_data = Data(config.PATH_DATA_RAW)\n",
    "raw_data_list = list(raw_data.iterate())\n",
    "raw_imgs = {d['img_path'] for d in raw_data_list}"
   ]
  },
  {
   "cell_type": "code",
   "execution_count": null,
   "metadata": {},
   "outputs": [],
   "source": [
    "len(data)"
   ]
  },
  {
   "cell_type": "code",
   "execution_count": null,
   "metadata": {
    "collapsed": true
   },
   "outputs": [],
   "source": [
    "data = data[data['img_path'].isin(raw_imgs) ]"
   ]
  },
  {
   "cell_type": "code",
   "execution_count": null,
   "metadata": {},
   "outputs": [],
   "source": [
    "\n",
    "len(data)"
   ]
  },
  {
   "cell_type": "markdown",
   "metadata": {},
   "source": [
    "## Drop unneeded columns"
   ]
  },
  {
   "cell_type": "code",
   "execution_count": null,
   "metadata": {
    "collapsed": true
   },
   "outputs": [],
   "source": [
    "data.drop(\n",
    "    labels= [\n",
    "        'timestamp', 'img_path', 'img', 'game_id', 'screen_diagonal',\n",
    "        'camera_position', 'screen_height', 'screen_width'\n",
    "    ],\n",
    "    axis=1,\n",
    "    inplace=True\n",
    ")"
   ]
  },
  {
   "cell_type": "markdown",
   "metadata": {},
   "source": [
    "## Clean data"
   ]
  },
  {
   "cell_type": "code",
   "execution_count": null,
   "metadata": {
    "scrolled": true
   },
   "outputs": [],
   "source": [
    "data.describe().loc[['min','max']]"
   ]
  },
  {
   "cell_type": "markdown",
   "metadata": {},
   "source": [
    "Everything makes sense."
   ]
  },
  {
   "cell_type": "markdown",
   "metadata": {},
   "source": [
    "## Target stats"
   ]
  },
  {
   "cell_type": "code",
   "execution_count": null,
   "metadata": {
    "scrolled": false
   },
   "outputs": [],
   "source": [
    "sns.jointplot(x=\"x\", y=\"y\", data=data, kind=\"scatter\", stat_func=None, size=12, ratio=10)"
   ]
  },
  {
   "cell_type": "code",
   "execution_count": null,
   "metadata": {
    "scrolled": true
   },
   "outputs": [],
   "source": [
    "sns.distplot(data['y'], hist=True, norm_hist=False, kde=False)"
   ]
  },
  {
   "cell_type": "code",
   "execution_count": null,
   "metadata": {
    "scrolled": true
   },
   "outputs": [],
   "source": [
    "sns.distplot(data['x'], hist=True, norm_hist=False, kde=False)"
   ]
  },
  {
   "cell_type": "markdown",
   "metadata": {},
   "source": [
    "## Eye images structure"
   ]
  },
  {
   "cell_type": "code",
   "execution_count": null,
   "metadata": {
    "collapsed": true
   },
   "outputs": [],
   "source": [
    "imgs_left = []\n",
    "imgs_right = []\n",
    "errors = []\n",
    "\n",
    "for i, row in data.iterrows():\n",
    "    try:\n",
    "        # Scale pixel value in range [-1,1]\n",
    "        imgs_left.append((skimage.io.imread(config.PATH_DATA_FEATURES02_DLIB_AUGMENTED+row['eye_left_image'])/255-0.5)*2)\n",
    "    except Exception as e:\n",
    "        errors.append(path)\n",
    "    try:\n",
    "        # Scale pixel value in range [-1,1]\n",
    "        imgs_right.append((skimage.io.imread(config.PATH_DATA_FEATURES02_DLIB_AUGMENTED+row['eye_right_image'])/255-0.5)*2)\n",
    "    except Exception as e:\n",
    "        errors.append(path)"
   ]
  },
  {
   "cell_type": "code",
   "execution_count": null,
   "metadata": {
    "collapsed": true
   },
   "outputs": [],
   "source": [
    "q = (skimage.io.imread(config.PATH_DATA_FEATURES02_DLIB_AUGMENTED+row['eye_left_image'])/255-0.5)*2"
   ]
  },
  {
   "cell_type": "markdown",
   "metadata": {},
   "source": [
    "## Save things"
   ]
  },
  {
   "cell_type": "code",
   "execution_count": null,
   "metadata": {
    "collapsed": true
   },
   "outputs": [],
   "source": [
    "if not os.path.exists(config.PATH_DATA_FEATURES02_DLIB_AUGMENTED_NORM):\n",
    "    os.makedirs(config.PATH_DATA_FEATURES02_DLIB_AUGMENTED_NORM)\n",
    "\n",
    "# CSV\n",
    "data.to_csv(config.PATH_DATA_FEATURES02_DLIB_AUGMENTED_NORM_CSV, index=False)\n",
    "# Images\n",
    "np.save(file=config.PATH_DATA_FEATURES02_DLIB_AUGMENTED_NORM_IMGS_LEFT, arr=imgs_left)\n",
    "np.save(file=config.PATH_DATA_FEATURES02_DLIB_AUGMENTED_NORM_IMGS_RIGHT, arr=imgs_right)"
   ]
  }
 ],
 "metadata": {
  "kernelspec": {
   "display_name": "Python 3",
   "language": "python",
   "name": "python3"
  },
  "language_info": {
   "codemirror_mode": {
    "name": "ipython",
    "version": 3
   },
   "file_extension": ".py",
   "mimetype": "text/x-python",
   "name": "python",
   "nbconvert_exporter": "python",
   "pygments_lexer": "ipython3",
   "version": "3.5.2"
  }
 },
 "nbformat": 4,
 "nbformat_minor": 2
}
