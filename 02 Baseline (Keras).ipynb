{
 "cells": [
  {
   "cell_type": "markdown",
   "metadata": {},
   "source": [
    "# 02 Baseline"
   ]
  },
  {
   "cell_type": "code",
   "execution_count": 1,
   "metadata": {
    "collapsed": true
   },
   "outputs": [],
   "source": [
    "import config\n",
    "from utils import data_model\n",
    "from utils.keras import losses\n",
    "from utils.features01_dlib import FEATURES, TARGETS\n",
    "\n",
    "import pandas as pd\n",
    "import numpy as np\n",
    "from tensorflow.contrib import keras"
   ]
  },
  {
   "cell_type": "markdown",
   "metadata": {},
   "source": [
    "## Load data"
   ]
  },
  {
   "cell_type": "code",
   "execution_count": 2,
   "metadata": {
    "collapsed": true
   },
   "outputs": [],
   "source": [
    "data, imgs_left, imgs_right = data_model.load(\n",
    "    config.PATH_DATA_FEATURES01_DLIB_AUGMENTED_NORM_CSV,\n",
    "    config.PATH_DATA_FEATURES01_DLIB_AUGMENTED_NORM_IMGS_LEFT,\n",
    "    config.PATH_DATA_FEATURES01_DLIB_AUGMENTED_NORM_IMGS_RIGHT\n",
    ")"
   ]
  },
  {
   "cell_type": "code",
   "execution_count": 3,
   "metadata": {},
   "outputs": [
    {
     "data": {
      "text/html": [
       "<div>\n",
       "<style>\n",
       "    .dataframe thead tr:only-child th {\n",
       "        text-align: right;\n",
       "    }\n",
       "\n",
       "    .dataframe thead th {\n",
       "        text-align: left;\n",
       "    }\n",
       "\n",
       "    .dataframe tbody tr th {\n",
       "        vertical-align: top;\n",
       "    }\n",
       "</style>\n",
       "<table border=\"1\" class=\"dataframe\">\n",
       "  <thead>\n",
       "    <tr style=\"text-align: right;\">\n",
       "      <th></th>\n",
       "      <th>eye_left_y</th>\n",
       "      <th>eye_left_x</th>\n",
       "      <th>face_height</th>\n",
       "      <th>face_width</th>\n",
       "      <th>eye_left_height</th>\n",
       "      <th>face_x</th>\n",
       "      <th>eye_right_x</th>\n",
       "      <th>y</th>\n",
       "      <th>x</th>\n",
       "      <th>glasses</th>\n",
       "      <th>eye_right_width</th>\n",
       "      <th>face_y</th>\n",
       "      <th>eye_left_image</th>\n",
       "      <th>eye_right_image</th>\n",
       "      <th>eye_right_height</th>\n",
       "      <th>eye_left_width</th>\n",
       "      <th>eye_right_y</th>\n",
       "    </tr>\n",
       "  </thead>\n",
       "  <tbody>\n",
       "    <tr>\n",
       "      <th>0</th>\n",
       "      <td>0.454167</td>\n",
       "      <td>-0.162500</td>\n",
       "      <td>0.447222</td>\n",
       "      <td>0.503125</td>\n",
       "      <td>0.077778</td>\n",
       "      <td>-0.232813</td>\n",
       "      <td>0.051562</td>\n",
       "      <td>0.585938</td>\n",
       "      <td>-0.998538</td>\n",
       "      <td>False</td>\n",
       "      <td>0.171875</td>\n",
       "      <td>0.384722</td>\n",
       "      <td>1c322a8bbd645b20da263dd342dc20ce_eye_left_0.jpg</td>\n",
       "      <td>1c322a8bbd645b20da263dd342dc20ce_eye_right_0.jpg</td>\n",
       "      <td>0.081944</td>\n",
       "      <td>0.171875</td>\n",
       "      <td>0.456944</td>\n",
       "    </tr>\n",
       "    <tr>\n",
       "      <th>1</th>\n",
       "      <td>0.456944</td>\n",
       "      <td>-0.160937</td>\n",
       "      <td>0.447222</td>\n",
       "      <td>0.503125</td>\n",
       "      <td>0.059722</td>\n",
       "      <td>-0.232813</td>\n",
       "      <td>0.050000</td>\n",
       "      <td>0.585938</td>\n",
       "      <td>-0.998538</td>\n",
       "      <td>False</td>\n",
       "      <td>0.175000</td>\n",
       "      <td>0.384722</td>\n",
       "      <td>1c322a8bbd645b20da263dd342dc20ce_eye_left_1.jpg</td>\n",
       "      <td>1c322a8bbd645b20da263dd342dc20ce_eye_right_1.jpg</td>\n",
       "      <td>0.070833</td>\n",
       "      <td>0.165625</td>\n",
       "      <td>0.459722</td>\n",
       "    </tr>\n",
       "    <tr>\n",
       "      <th>2</th>\n",
       "      <td>0.454167</td>\n",
       "      <td>-0.160937</td>\n",
       "      <td>0.447222</td>\n",
       "      <td>0.503125</td>\n",
       "      <td>0.075000</td>\n",
       "      <td>-0.232813</td>\n",
       "      <td>0.050000</td>\n",
       "      <td>0.585938</td>\n",
       "      <td>-0.998538</td>\n",
       "      <td>False</td>\n",
       "      <td>0.171875</td>\n",
       "      <td>0.384722</td>\n",
       "      <td>1c322a8bbd645b20da263dd342dc20ce_eye_left_2.jpg</td>\n",
       "      <td>1c322a8bbd645b20da263dd342dc20ce_eye_right_2.jpg</td>\n",
       "      <td>0.077778</td>\n",
       "      <td>0.171875</td>\n",
       "      <td>0.458333</td>\n",
       "    </tr>\n",
       "    <tr>\n",
       "      <th>3</th>\n",
       "      <td>0.455556</td>\n",
       "      <td>-0.157813</td>\n",
       "      <td>0.447222</td>\n",
       "      <td>0.503125</td>\n",
       "      <td>0.066667</td>\n",
       "      <td>-0.232813</td>\n",
       "      <td>0.054688</td>\n",
       "      <td>0.585938</td>\n",
       "      <td>-0.998538</td>\n",
       "      <td>False</td>\n",
       "      <td>0.168750</td>\n",
       "      <td>0.384722</td>\n",
       "      <td>1c322a8bbd645b20da263dd342dc20ce_eye_left_3.jpg</td>\n",
       "      <td>1c322a8bbd645b20da263dd342dc20ce_eye_right_3.jpg</td>\n",
       "      <td>0.070833</td>\n",
       "      <td>0.162500</td>\n",
       "      <td>0.461111</td>\n",
       "    </tr>\n",
       "    <tr>\n",
       "      <th>4</th>\n",
       "      <td>0.454167</td>\n",
       "      <td>-0.156250</td>\n",
       "      <td>0.447222</td>\n",
       "      <td>0.503125</td>\n",
       "      <td>0.070833</td>\n",
       "      <td>-0.232813</td>\n",
       "      <td>0.054688</td>\n",
       "      <td>0.585938</td>\n",
       "      <td>-0.998538</td>\n",
       "      <td>False</td>\n",
       "      <td>0.165625</td>\n",
       "      <td>0.384722</td>\n",
       "      <td>1c322a8bbd645b20da263dd342dc20ce_eye_left_4.jpg</td>\n",
       "      <td>1c322a8bbd645b20da263dd342dc20ce_eye_right_4.jpg</td>\n",
       "      <td>0.077778</td>\n",
       "      <td>0.162500</td>\n",
       "      <td>0.456944</td>\n",
       "    </tr>\n",
       "  </tbody>\n",
       "</table>\n",
       "</div>"
      ],
      "text/plain": [
       "   eye_left_y  eye_left_x  face_height  face_width  eye_left_height    face_x  \\\n",
       "0    0.454167   -0.162500     0.447222    0.503125         0.077778 -0.232813   \n",
       "1    0.456944   -0.160937     0.447222    0.503125         0.059722 -0.232813   \n",
       "2    0.454167   -0.160937     0.447222    0.503125         0.075000 -0.232813   \n",
       "3    0.455556   -0.157813     0.447222    0.503125         0.066667 -0.232813   \n",
       "4    0.454167   -0.156250     0.447222    0.503125         0.070833 -0.232813   \n",
       "\n",
       "   eye_right_x         y         x  glasses  eye_right_width    face_y  \\\n",
       "0     0.051562  0.585938 -0.998538    False         0.171875  0.384722   \n",
       "1     0.050000  0.585938 -0.998538    False         0.175000  0.384722   \n",
       "2     0.050000  0.585938 -0.998538    False         0.171875  0.384722   \n",
       "3     0.054688  0.585938 -0.998538    False         0.168750  0.384722   \n",
       "4     0.054688  0.585938 -0.998538    False         0.165625  0.384722   \n",
       "\n",
       "                                    eye_left_image  \\\n",
       "0  1c322a8bbd645b20da263dd342dc20ce_eye_left_0.jpg   \n",
       "1  1c322a8bbd645b20da263dd342dc20ce_eye_left_1.jpg   \n",
       "2  1c322a8bbd645b20da263dd342dc20ce_eye_left_2.jpg   \n",
       "3  1c322a8bbd645b20da263dd342dc20ce_eye_left_3.jpg   \n",
       "4  1c322a8bbd645b20da263dd342dc20ce_eye_left_4.jpg   \n",
       "\n",
       "                                    eye_right_image  eye_right_height  \\\n",
       "0  1c322a8bbd645b20da263dd342dc20ce_eye_right_0.jpg          0.081944   \n",
       "1  1c322a8bbd645b20da263dd342dc20ce_eye_right_1.jpg          0.070833   \n",
       "2  1c322a8bbd645b20da263dd342dc20ce_eye_right_2.jpg          0.077778   \n",
       "3  1c322a8bbd645b20da263dd342dc20ce_eye_right_3.jpg          0.070833   \n",
       "4  1c322a8bbd645b20da263dd342dc20ce_eye_right_4.jpg          0.077778   \n",
       "\n",
       "   eye_left_width  eye_right_y  \n",
       "0        0.171875     0.456944  \n",
       "1        0.165625     0.459722  \n",
       "2        0.171875     0.458333  \n",
       "3        0.162500     0.461111  \n",
       "4        0.162500     0.456944  "
      ]
     },
     "execution_count": 3,
     "metadata": {},
     "output_type": "execute_result"
    }
   ],
   "source": [
    "data.head()"
   ]
  },
  {
   "cell_type": "markdown",
   "metadata": {},
   "source": [
    "## Split data"
   ]
  },
  {
   "cell_type": "code",
   "execution_count": 4,
   "metadata": {
    "collapsed": true
   },
   "outputs": [],
   "source": [
    "(\n",
    "    (train_data, train_imgs_left, train_imgs_right),\n",
    "    (validation_data, validation_imgs_left, validation_imgs_right),\n",
    "    (test_data, test_imgs_left, test_imgs_right)\n",
    ") = data_model.split(\n",
    "    data, imgs_left, imgs_right,\n",
    "    train_size=0.95,\n",
    "    validation_size=0.95,\n",
    "    random_state=42\n",
    ")"
   ]
  },
  {
   "cell_type": "code",
   "execution_count": 5,
   "metadata": {
    "scrolled": true
   },
   "outputs": [
    {
     "name": "stdout",
     "output_type": "stream",
     "text": [
      "Train length: 43334\n",
      "Validation length: 2281\n",
      "Test length: 2401\n"
     ]
    }
   ],
   "source": [
    "print(\"Train length: {}\".format(len(train_data)))\n",
    "print(\"Validation length: {}\".format(len(validation_data)))\n",
    "print(\"Test length: {}\".format(len(test_data)))"
   ]
  },
  {
   "cell_type": "markdown",
   "metadata": {},
   "source": [
    "## Model"
   ]
  },
  {
   "cell_type": "markdown",
   "metadata": {},
   "source": [
    "### Architecture"
   ]
  },
  {
   "cell_type": "markdown",
   "metadata": {},
   "source": [
    "![](img/models/02-baseline.png)"
   ]
  },
  {
   "cell_type": "code",
   "execution_count": 6,
   "metadata": {
    "collapsed": true
   },
   "outputs": [],
   "source": [
    "def get_model():\n",
    "\n",
    "    # Inputs\n",
    "    left_imgs = keras.layers.Input(shape=(20,30), name='left_imgs', dtype='float32')\n",
    "    right_imgs = keras.layers.Input(shape=(20,30), name='right_imgs', dtype='float32')\n",
    "    features = keras.layers.Input(shape=(len(FEATURES),), name='features', dtype='float32')\n",
    "    # Flatten images & concatenate\n",
    "    flat_input = keras.layers.Concatenate()([\n",
    "        keras.layers.Flatten()(left_imgs),\n",
    "        keras.layers.Flatten()(right_imgs),\n",
    "        features\n",
    "    ])\n",
    "    # Dense\n",
    "    d_1 = keras.layers.Dense(1024, activation=keras.activations.relu)(flat_input)\n",
    "    d_2 = keras.layers.Dense(512, activation=keras.activations.relu)(d_1)\n",
    "    d_3 = keras.layers.Dense(128, activation=keras.activations.relu)(d_2)\n",
    "    d_4 = keras.layers.Dense(2)(d_3)\n",
    "    # Model\n",
    "    model = keras.models.Model(\n",
    "        inputs=[left_imgs, right_imgs, features],\n",
    "        outputs=[d_4]\n",
    "    )\n",
    "    return model"
   ]
  },
  {
   "cell_type": "markdown",
   "metadata": {},
   "source": [
    "### Parameters"
   ]
  },
  {
   "cell_type": "code",
   "execution_count": 7,
   "metadata": {
    "collapsed": true
   },
   "outputs": [],
   "source": [
    "MODEL_NAME = 'baseline-08'\n",
    "\n",
    "EPOCHS = 150\n",
    "BATCH_SIZE = 128\n",
    "LEARNING_RATE = 0.0005\n",
    "DECAY = 0.00001"
   ]
  },
  {
   "cell_type": "code",
   "execution_count": null,
   "metadata": {},
   "outputs": [],
   "source": [
    "model = get_model()\n",
    "\n",
    "model.compile(\n",
    "    loss=losses.euclidean,\n",
    "    optimizer=keras.optimizers.Adam(lr=LEARNING_RATE, beta_1=0.9, beta_2=0.999, epsilon=1e-08, decay=DECAY)\n",
    ")\n",
    "\n",
    "print(\"Parameters to adjust: {}\".format(\n",
    "    np.sum([keras.backend.count_params(p) for p in set(model.trainable_weights)])\n",
    "))"
   ]
  },
  {
   "cell_type": "markdown",
   "metadata": {},
   "source": [
    "### Train"
   ]
  },
  {
   "cell_type": "code",
   "execution_count": null,
   "metadata": {
    "collapsed": true,
    "scrolled": true
   },
   "outputs": [],
   "source": [
    "model.fit(\n",
    "    x={\n",
    "        'left_imgs':train_imgs_left,\n",
    "        'right_imgs': train_imgs_right,\n",
    "        'features': train_data[FEATURES].as_matrix()\n",
    "    },\n",
    "    y=train_data[TARGETS].as_matrix(),\n",
    "    validation_data=(\n",
    "        {\n",
    "            'left_imgs': validation_imgs_left,\n",
    "            'right_imgs': validation_imgs_right,\n",
    "            'features': validation_data[FEATURES].as_matrix()\n",
    "        },\n",
    "        validation_data[TARGETS].as_matrix()\n",
    "    ),\n",
    "    epochs=EPOCHS,\n",
    "    batch_size=BATCH_SIZE,\n",
    "    verbose=1, callbacks=None, shuffle=True, class_weight=None, sample_weight=None, initial_epoch=0\n",
    ")"
   ]
  },
  {
   "cell_type": "code",
   "execution_count": null,
   "metadata": {
    "collapsed": true
   },
   "outputs": [],
   "source": [
    "model.save(config.PATH_MODELS_KERAS+MODEL_NAME)"
   ]
  },
  {
   "cell_type": "markdown",
   "metadata": {},
   "source": [
    "### Test"
   ]
  },
  {
   "cell_type": "code",
   "execution_count": 8,
   "metadata": {
    "collapsed": true
   },
   "outputs": [],
   "source": [
    "model_test = keras.models.load_model(\n",
    "    filepath=config.PATH_MODELS_KERAS+MODEL_NAME,\n",
    "    custom_objects={\n",
    "        \"euclidean\":losses.euclidean\n",
    "    }\n",
    ")"
   ]
  },
  {
   "cell_type": "code",
   "execution_count": 9,
   "metadata": {},
   "outputs": [
    {
     "name": "stdout",
     "output_type": "stream",
     "text": [
      "2386/2401 [============================>.] - ETA: 0s"
     ]
    },
    {
     "data": {
      "text/plain": [
       "0.10026176797357178"
      ]
     },
     "execution_count": 9,
     "metadata": {},
     "output_type": "execute_result"
    }
   ],
   "source": [
    "model_test.evaluate(\n",
    "    x={\n",
    "        'left_imgs':test_imgs_left,\n",
    "        'right_imgs': test_imgs_right,\n",
    "        'features': test_data[FEATURES].as_matrix()\n",
    "    },\n",
    "    y=test_data[TARGETS].as_matrix(),\n",
    "    batch_size=1,\n",
    "    verbose=1, sample_weight=None\n",
    ")"
   ]
  },
  {
   "cell_type": "markdown",
   "metadata": {},
   "source": [
    "### Results\n",
    "\n",
    "\n",
    "| Name | Epochs | Batch Size | Learning rate | Decay | Train | Validation | Test |\n",
    "|:--:|:--:|:--:|:--:|:--:|:--:|:--:|:--:|\n",
    "| baseline-08 | 150 | 128| 0.0005 | 0.00001 | 0.0239 | 0.0983 | 0.1003 |"
   ]
  },
  {
   "cell_type": "markdown",
   "metadata": {},
   "source": [
    "### Errors"
   ]
  },
  {
   "cell_type": "code",
   "execution_count": 10,
   "metadata": {},
   "outputs": [
    {
     "data": {
      "text/plain": [
       "<seaborn.axisgrid.JointGrid at 0x7fd709fa4a58>"
      ]
     },
     "execution_count": 10,
     "metadata": {},
     "output_type": "execute_result"
    },
    {
     "data": {
      "image/png": "[encoded data removed]",
      "text/plain": [
       "<matplotlib.figure.Figure at 0x7fd709fa4a90>"
      ]
     },
     "metadata": {},
     "output_type": "display_data"
    }
   ],
   "source": [
    "import seaborn as sns\n",
    "%matplotlib inline\n",
    "\n",
    "\n",
    "predictions = model_test.predict(\n",
    "    x={\n",
    "        'left_imgs':test_imgs_left,\n",
    "        'right_imgs': test_imgs_right,\n",
    "        'features': test_data[FEATURES].as_matrix()\n",
    "    }\n",
    ")\n",
    "errors = test_data[TARGETS].as_matrix()-predictions\n",
    "sns.jointplot(x=errors[:,0], y=errors[:,1], kind=\"kde\")"
   ]
  }
 ],
 "metadata": {
  "kernelspec": {
   "display_name": "Python 3",
   "language": "python",
   "name": "python3"
  },
  "language_info": {
   "codemirror_mode": {
    "name": "ipython",
    "version": 3
   },
   "file_extension": ".py",
   "mimetype": "text/x-python",
   "name": "python",
   "nbconvert_exporter": "python",
   "pygments_lexer": "ipython3",
   "version": "3.5.2"
  }
 },
 "nbformat": 4,
 "nbformat_minor": 2
}
